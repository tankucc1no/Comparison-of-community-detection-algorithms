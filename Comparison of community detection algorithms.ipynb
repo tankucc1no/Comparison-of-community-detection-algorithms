{
 "cells": [
  {
   "cell_type": "markdown",
   "id": "cb13e577",
   "metadata": {},
   "source": [
    "# Comparison of community detection algorithms"
   ]
  },
  {
   "cell_type": "code",
   "execution_count": 115,
   "id": "c9d416ea",
   "metadata": {},
   "outputs": [],
   "source": [
    "import networkx as nx\n",
    "import community as community_louvain\n",
    "import time\n",
    "import pandas as pd\n",
    "import igraph as ig\n",
    "from igraph import Graph\n",
    "import infomap\n",
    "from collections import defaultdict\n",
    "import matplotlib.pyplot as plt\n",
    "import numpy as np"
   ]
  },
  {
   "cell_type": "markdown",
   "id": "d46d018a",
   "metadata": {},
   "source": [
    "## Load edge list"
   ]
  },
  {
   "cell_type": "code",
   "execution_count": 4,
   "id": "2dd0177f",
   "metadata": {},
   "outputs": [],
   "source": [
    "def load_edge_list(file_path):\n",
    "    edge_list = []\n",
    "\n",
    "    with open(file_path, \"r\") as file:\n",
    "        for line in file:\n",
    "            # Extract two nodes from the line\n",
    "            node1, node2 = map(int, line.strip().split())\n",
    "            edge_list.append((node1, node2))\n",
    "\n",
    "    return edge_list"
   ]
  },
  {
   "cell_type": "markdown",
   "id": "8d593324",
   "metadata": {},
   "source": [
    "## Create the graph"
   ]
  },
  {
   "cell_type": "code",
   "execution_count": 5,
   "id": "12c730d4",
   "metadata": {},
   "outputs": [],
   "source": [
    "def create_graph(file_path):\n",
    "    # Load edge list and create undirected graph\n",
    "    edge_list = load_edge_list(file_path)\n",
    "    graph = nx.Graph()\n",
    "    graph.add_edges_from(edge_list)\n",
    "    return graph"
   ]
  },
  {
   "cell_type": "markdown",
   "id": "992dc4a7",
   "metadata": {},
   "source": [
    "## Define a function that shows the stats of network"
   ]
  },
  {
   "cell_type": "code",
   "execution_count": 104,
   "id": "fd361994",
   "metadata": {},
   "outputs": [],
   "source": [
    "def print_graph_stats(graph):\n",
    "    # Calculate the number of nodes\n",
    "    num_nodes = nx.number_of_nodes(graph)\n",
    "    print(\"Number of nodes:\", num_nodes)\n",
    "\n",
    "    # Calculate the number of edges\n",
    "    num_edges = nx.number_of_edges(graph)\n",
    "    print(\"Number of edges:\", num_edges)\n",
    "\n",
    "    # Calculate the network density\n",
    "    density = nx.density(graph)\n",
    "    print(\"Network density:\", density)"
   ]
  },
  {
   "cell_type": "markdown",
   "id": "2b0748a9",
   "metadata": {},
   "source": [
    "## Define the community detection method\n",
    "### Walktrap"
   ]
  },
  {
   "cell_type": "code",
   "execution_count": 73,
   "id": "64fdd59d",
   "metadata": {},
   "outputs": [],
   "source": [
    "def detect_communities_walktrap(graph):\n",
    "    start_time = time.time()\n",
    "    \n",
    "    # Convert NetworkX graph to igraph graph\n",
    "    ig_graph = ig.Graph.from_networkx(graph)\n",
    "    \n",
    "    # Run walktrap\n",
    "    walktrap_results = ig_graph.community_walktrap(steps=4)\n",
    "    \n",
    "    # Extract community partitions from walktrap results\n",
    "    communities = walktrap_results.as_clustering()\n",
    "\n",
    "    # Running Time\n",
    "    elapsed_time = time.time() - start_time\n",
    "    \n",
    "    # Modularity\n",
    "    modularity = ig_graph.modularity(communities)\n",
    "    \n",
    "    return [elapsed_time, modularity]"
   ]
  },
  {
   "cell_type": "markdown",
   "id": "bfa58fe2",
   "metadata": {},
   "source": [
    "### Infomap"
   ]
  },
  {
   "cell_type": "code",
   "execution_count": 74,
   "id": "d52200a7",
   "metadata": {},
   "outputs": [],
   "source": [
    "def detect_communities_infomap(graph):\n",
    "    start_time = time.time()\n",
    "\n",
    "    # Convert NetworkX graph to igraph graph\n",
    "    ig_graph = ig.Graph.from_networkx(graph)\n",
    "\n",
    "    # Initialize the Infomap\n",
    "    im = infomap.Infomap(\"--silent\")\n",
    "\n",
    "    # Add nodes and edges from igraph graph\n",
    "    for e in ig_graph.es:\n",
    "        im.add_link(int(e.source), int(e.target))\n",
    "\n",
    "    # Run Infomap \n",
    "    im.run()\n",
    "\n",
    "    # Extract community division\n",
    "    communities = {node.node_id: node.module_id for node in im.nodes if node.is_leaf}\n",
    "    \n",
    "    # Running Time\n",
    "    elapsed_time = time.time() - start_time\n",
    "\n",
    "    # Modularity\n",
    "    modularity = ig_graph.modularity(list(communities.values()))\n",
    "\n",
    "    return [elapsed_time, modularity]"
   ]
  },
  {
   "cell_type": "markdown",
   "id": "3679b08a",
   "metadata": {},
   "source": [
    "### Fast Greedy"
   ]
  },
  {
   "cell_type": "code",
   "execution_count": 98,
   "id": "3554c2ba",
   "metadata": {},
   "outputs": [],
   "source": [
    "def detect_communities_fast_greedy(graph):\n",
    "    start_time = time.time()\n",
    "    \n",
    "    #Run greedy\n",
    "    dendrogram = nx.community.greedy_modularity_communities(graph)\n",
    "    communities = [set(community) for community in dendrogram]\n",
    "    \n",
    "    # Running Time\n",
    "    elapsed_time = time.time() - start_time\n",
    "    \n",
    "    # Convert community assignments to a dictionary\n",
    "    partition = {node: i for i, community in enumerate(communities) for node in community}\n",
    "\n",
    "    # Modularity\n",
    "    modularity = nx.algorithms.community.modularity(graph, communities)\n",
    "    \n",
    "    return [elapsed_time, modularity]"
   ]
  },
  {
   "cell_type": "markdown",
   "id": "e2e1f740",
   "metadata": {},
   "source": [
    "### Louvain"
   ]
  },
  {
   "cell_type": "code",
   "execution_count": 76,
   "id": "88ab3e0f",
   "metadata": {},
   "outputs": [],
   "source": [
    "def detect_communities_louvain(graph):\n",
    "    start_time = time.time()\n",
    "    \n",
    "    # Run louvain\n",
    "    partition = community_louvain.best_partition(graph)\n",
    "    \n",
    "    # Running TIme\n",
    "    elapsed_time = time.time() - start_time\n",
    "    \n",
    "    # Modularity\n",
    "    modularity = community_louvain.modularity(partition, graph)\n",
    "    \n",
    "    return [elapsed_time, modularity]"
   ]
  },
  {
   "cell_type": "markdown",
   "id": "e733e173",
   "metadata": {},
   "source": [
    "### Label Propagation"
   ]
  },
  {
   "cell_type": "code",
   "execution_count": 65,
   "id": "3e9249e6",
   "metadata": {},
   "outputs": [],
   "source": [
    "def detect_communities_label_propagation(graph):\n",
    "    start_time = time.time()\n",
    "    \n",
    "    # Run Label Propagation \n",
    "    communities = nx.algorithms.community.label_propagation_communities(graph)\n",
    "        \n",
    "    # Running TIme\n",
    "    elapsed_time = time.time() - start_time\n",
    "    \n",
    "    # Convert community assignments to a dictionary\n",
    "    community_dict = {node: i for i, community in enumerate(communities) for node in community}\n",
    "    \n",
    "    # Modularity\n",
    "    modularity = nx.algorithms.community.modularity(graph, communities)\n",
    "\n",
    "\n",
    "    return [elapsed_time, modularity]"
   ]
  },
  {
   "cell_type": "markdown",
   "id": "37b14110",
   "metadata": {},
   "source": [
    "### Label Propagation (for improving details)"
   ]
  },
  {
   "cell_type": "code",
   "execution_count": 12,
   "id": "8e618ece",
   "metadata": {},
   "outputs": [],
   "source": [
    "\n",
    "def label_propagation(graph, max_iter=100):\n",
    "    # Initialize label\n",
    "    for node in graph.nodes():\n",
    "        graph.nodes[node]['label'] = node\n",
    "\n",
    "    # label propagation\n",
    "    for _ in range(max_iter):\n",
    "        nodes = list(graph.nodes())\n",
    "        random.shuffle(nodes) # Disrupt the order of nodes, making the update process random\n",
    "        for node in nodes:\n",
    "            labels = {}\n",
    "\n",
    "            # Count the labels of neighbor nodes\n",
    "            for neighbor in graph.neighbors(node):\n",
    "                label = graph.nodes[neighbor]['label']\n",
    "                if label not in labels:\n",
    "                    labels[label] = 0\n",
    "                labels[label] += 1\n",
    "\n",
    "            # Select the label with the most occurrences\n",
    "            max_label, max_count = None, 0\n",
    "            for label, count in labels.items():\n",
    "                if count > max_count:\n",
    "                    max_label, max_count = label, count\n",
    "\n",
    "            graph.nodes[node]['label'] = max_label\n",
    "\n",
    "    # Extract the community structure\n",
    "    communities = {}\n",
    "    for node, data in graph.nodes(data=True):\n",
    "        label = data['label']\n",
    "        if label not in communities:\n",
    "            communities[label] = []\n",
    "        communities[label].append(node)\n",
    "\n",
    "    modularity_score = nx.algorithms.community.modularity(G, communities.values())"
   ]
  },
  {
   "cell_type": "markdown",
   "id": "32441fc6",
   "metadata": {},
   "source": [
    "## Main function. \n",
    "Run the detection algorithms one by one and store the results in a dataframe."
   ]
  },
  {
   "cell_type": "code",
   "execution_count": 99,
   "id": "1d81098d",
   "metadata": {},
   "outputs": [],
   "source": [
    "def detection(graph):\n",
    "    df = pd.DataFrame(columns=[\"Running Time\", \"Modularity\"], index=[\"fast greedy\", \"infomap\", \"walktrap\", \"louvain\", \"label propagation\"])\n",
    "\n",
    "    df.loc[\"fast greedy\"] = detect_communities_fast_greedy(graph)\n",
    "    df.loc[\"infomap\"] = detect_communities_infomap(graph)\n",
    "    df.loc[\"walktrap\"] = detect_communities_walktrap(graph)\n",
    "    df.loc[\"louvain\"] = detect_communities_louvain(graph)\n",
    "    df.loc[\"label propagation\"] = detect_communities_label_propagation(graph)\n",
    "    return df"
   ]
  },
  {
   "cell_type": "markdown",
   "id": "bc02981d",
   "metadata": {},
   "source": [
    "## Load the three networks"
   ]
  },
  {
   "cell_type": "code",
   "execution_count": 100,
   "id": "cd3bb092",
   "metadata": {},
   "outputs": [],
   "source": [
    "karate_graph = nx.karate_club_graph()\n",
    "facebook = create_graph(\"facebook_combined.txt\")\n",
    "gplus = create_graph(\"gplus_combined.txt\")"
   ]
  },
  {
   "cell_type": "markdown",
   "id": "6950ea95",
   "metadata": {},
   "source": [
    "## Print the stats of network"
   ]
  },
  {
   "cell_type": "code",
   "execution_count": 112,
   "id": "a8f50f6b",
   "metadata": {},
   "outputs": [
    {
     "name": "stdout",
     "output_type": "stream",
     "text": [
      "Number of nodes: 4039\n",
      "Number of edges: 88234\n",
      "Network density: 0.010819963503439287\n"
     ]
    }
   ],
   "source": [
    "facebook = create_graph(\"facebook_combined.txt\")\n",
    "print_graph_stats(facebook)"
   ]
  },
  {
   "cell_type": "markdown",
   "id": "021e79c4",
   "metadata": {},
   "source": [
    "## Run the detection algorithms and check the result"
   ]
  },
  {
   "cell_type": "code",
   "execution_count": 108,
   "id": "20e02de0",
   "metadata": {},
   "outputs": [],
   "source": [
    "df_karate = detection(karate_graph)\n",
    "df_facebook = detection(facebook)"
   ]
  },
  {
   "cell_type": "code",
   "execution_count": 109,
   "id": "97f99cb4",
   "metadata": {},
   "outputs": [
    {
     "data": {
      "text/html": [
       "<div>\n",
       "<style scoped>\n",
       "    .dataframe tbody tr th:only-of-type {\n",
       "        vertical-align: middle;\n",
       "    }\n",
       "\n",
       "    .dataframe tbody tr th {\n",
       "        vertical-align: top;\n",
       "    }\n",
       "\n",
       "    .dataframe thead th {\n",
       "        text-align: right;\n",
       "    }\n",
       "</style>\n",
       "<table border=\"1\" class=\"dataframe\">\n",
       "  <thead>\n",
       "    <tr style=\"text-align: right;\">\n",
       "      <th></th>\n",
       "      <th>Running Time</th>\n",
       "      <th>Modularity</th>\n",
       "    </tr>\n",
       "  </thead>\n",
       "  <tbody>\n",
       "    <tr>\n",
       "      <th>fast greedy</th>\n",
       "      <td>0.013947</td>\n",
       "      <td>0.410965</td>\n",
       "    </tr>\n",
       "    <tr>\n",
       "      <th>infomap</th>\n",
       "      <td>0.003587</td>\n",
       "      <td>0.14193</td>\n",
       "    </tr>\n",
       "    <tr>\n",
       "      <th>walktrap</th>\n",
       "      <td>0.000733</td>\n",
       "      <td>0.353222</td>\n",
       "    </tr>\n",
       "    <tr>\n",
       "      <th>louvain</th>\n",
       "      <td>0.003977</td>\n",
       "      <td>0.443854</td>\n",
       "    </tr>\n",
       "    <tr>\n",
       "      <th>label propagation</th>\n",
       "      <td>0.000678</td>\n",
       "      <td>0.309486</td>\n",
       "    </tr>\n",
       "  </tbody>\n",
       "</table>\n",
       "</div>"
      ],
      "text/plain": [
       "                  Running Time Modularity\n",
       "fast greedy           0.013947   0.410965\n",
       "infomap               0.003587    0.14193\n",
       "walktrap              0.000733   0.353222\n",
       "louvain               0.003977   0.443854\n",
       "label propagation     0.000678   0.309486"
      ]
     },
     "execution_count": 109,
     "metadata": {},
     "output_type": "execute_result"
    }
   ],
   "source": [
    "df_karate"
   ]
  },
  {
   "cell_type": "markdown",
   "id": "a7571646",
   "metadata": {},
   "source": [
    "## In addition, can also test the performance of algorithms separately\n",
    "- When running algorithms on a large data set, it may be necessary to test the remaining algorithms separately due to the need to exclude some algorithms that take too long to run and consume too much resources."
   ]
  },
  {
   "cell_type": "code",
   "execution_count": 18,
   "id": "25e9958b",
   "metadata": {},
   "outputs": [
    {
     "data": {
      "text/plain": [
       "[52.604403018951416, 0.07267492183834053]"
      ]
     },
     "execution_count": 18,
     "metadata": {},
     "output_type": "execute_result"
    }
   ],
   "source": [
    "detect_communities_infomap(gplus)"
   ]
  },
  {
   "cell_type": "code",
   "execution_count": 15,
   "id": "dc9c662e",
   "metadata": {},
   "outputs": [
    {
     "data": {
      "text/plain": [
       "[425.338210105896, 0.4773843919440237]"
      ]
     },
     "execution_count": 15,
     "metadata": {},
     "output_type": "execute_result"
    }
   ],
   "source": [
    "detect_communities_louvain(gplus)"
   ]
  },
  {
   "cell_type": "code",
   "execution_count": 17,
   "id": "807b0fbb",
   "metadata": {},
   "outputs": [
    {
     "data": {
      "text/plain": [
       "[1426.6071553230286, 0.4350889132095334]"
      ]
     },
     "execution_count": 17,
     "metadata": {},
     "output_type": "execute_result"
    }
   ],
   "source": [
    "detect_communities_label_propagation(gplus)"
   ]
  },
  {
   "cell_type": "markdown",
   "id": "dae1982d",
   "metadata": {},
   "source": [
    "Here we manually set the value of df_google"
   ]
  },
  {
   "cell_type": "code",
   "execution_count": 19,
   "id": "232d612b",
   "metadata": {},
   "outputs": [],
   "source": [
    "df_google = pd.DataFrame(columns=[\"Running Time\", \"Modularity\"], index=[\"fast greedy\", \"infomap\", \"walktrap\", \"louvain\", \"label propagation\"])\n",
    "\n",
    "df_google.loc[\"fast greedy\"] = [None, None]\n",
    "df_google.loc[\"infomap\"] = detect_communities_infomap(df_google)\n",
    "df_google.loc[\"walktrap\"] = [None, None]\n",
    "df_google.loc[\"louvain\"] = detect_communities_louvain(df_google)\n",
    "df_google.loc[\"label propagation\"] = detect_communities_label_propagation(df_google)"
   ]
  },
  {
   "cell_type": "markdown",
   "id": "4ef6286b",
   "metadata": {},
   "source": [
    "## Draw the figure"
   ]
  },
  {
   "cell_type": "code",
   "execution_count": 114,
   "id": "1cfec831",
   "metadata": {},
   "outputs": [
    {
     "data": {
      "image/png": "[encoded data removed]",
      "text/plain": [
       "<Figure size 1000x500 with 1 Axes>"
      ]
     },
     "metadata": {},
     "output_type": "display_data"
    }
   ],
   "source": [
    "# Data\n",
    "algorithms = ['Fast Greedy', 'Infomap', 'Walktrap', 'Louvain', 'Label Propagation']\n",
    "dataset_labels = ['Karate', 'Facebook', 'Google+']\n",
    "modularity_values = [\n",
    "    df_karate['Modularity'],\n",
    "    df_facebook['Modularity'],\n",
    "    df_google['Modularity'],\n",
    "]\n",
    "\n",
    "# Set up the plot\n",
    "bar_width = 0.15\n",
    "fig, ax = plt.subplots(figsize=(10, 5))\n",
    "\n",
    "# Create bar plots for each algorithm\n",
    "for i, algorithm in enumerate(algorithms):\n",
    "    x = np.arange(len(dataset_labels)) + i * bar_width\n",
    "    y = [modularity_values[j][i] if modularity_values[j][i] is not None else 0 for j in range(len(dataset_labels))]\n",
    "    ax.bar(x, y, width=bar_width, label=algorithm)\n",
    "\n",
    "# Customize the plot\n",
    "ax.set_ylabel('Modularity')\n",
    "ax.set_title('Community Detection Algorithms Performance on Different Datasets')\n",
    "ax.set_xticks(np.arange(len(dataset_labels)) + bar_width * (len(algorithms) - 1) / 2)\n",
    "ax.set_xticklabels(dataset_labels)\n",
    "ax.legend()\n",
    "\n",
    "# Display the plot\n",
    "plt.show()"
   ]
  },
  {
   "cell_type": "code",
   "execution_count": null,
   "id": "b24f3898",
   "metadata": {},
   "outputs": [],
   "source": []
  }
 ],
 "metadata": {
  "kernelspec": {
   "display_name": "Python 3 (ipykernel)",
   "language": "python",
   "name": "python3"
  },
  "language_info": {
   "codemirror_mode": {
    "name": "ipython",
    "version": 3
   },
   "file_extension": ".py",
   "mimetype": "text/x-python",
   "name": "python",
   "nbconvert_exporter": "python",
   "pygments_lexer": "ipython3",
   "version": "3.8.15"
  }
 },
 "nbformat": 4,
 "nbformat_minor": 5
}
